{
 "cells": [
  {
   "cell_type": "markdown",
   "id": "7c82813b",
   "metadata": {},
   "source": [
    "# Resources\n",
    "- Tutorial used to create dictionary: https://jakemccrary.com/blog/2020/11/11/creating-a-custom-kindle-dictionary/\n",
    "- Kanji Koohi: https://kanji.koohii.com/\n",
    "- Anki \"Heisig's RTK 6th Edition- Stories, Stroke diagrams, Readings\" Deck used to mine data\n",
    "- Anki Pandas used to mine anki deck"
   ]
  },
  {
   "cell_type": "code",
   "execution_count": 1,
   "id": "1812cc21",
   "metadata": {},
   "outputs": [
    {
     "name": "stderr",
     "output_type": "stream",
     "text": [
      "\u001b[32mINFO: Searching for database. This might take some time. You can speed this up by specifying a search path or directly entering the path to your database.\u001b[0m\n",
      "\u001b[33mWARNING: The search will stop at the first hit, so please verify that the result is correct (for example in case there might be more than one Anki installation)\u001b[0m\n"
     ]
    }
   ],
   "source": [
    "from ankipandas import Collection\n",
    "\n",
    "col = Collection()"
   ]
  },
  {
   "cell_type": "markdown",
   "id": "3e02a9f1",
   "metadata": {},
   "source": [
    "# 1. Get Heisig Kanji Dataset"
   ]
  },
  {
   "cell_type": "code",
   "execution_count": 3,
   "id": "5b9830cd",
   "metadata": {},
   "outputs": [],
   "source": [
    "rtk = col.notes.loc[col.notes.nmodel.str.contains('Heisig')].fields_as_columns()\n",
    "rtk = rtk[[c for c in rtk.columns if c not in ['nguid','nmod','nusn','ntags','nmodel']]]\n",
    "rtk.rename(columns={c:c.split('_')[-1] for c in rtk.columns}, inplace=True)"
   ]
  },
  {
   "cell_type": "markdown",
   "id": "4d0d9c2a",
   "metadata": {},
   "source": [
    "# 2. Create content.html (Main Dictionary)"
   ]
  },
  {
   "cell_type": "code",
   "execution_count": 5,
   "id": "114305e2",
   "metadata": {},
   "outputs": [],
   "source": [
    "TITLE = 'Kanji Koohi (RTK) Dictionary'\n",
    "AUTHOR = 'Stephen R. Thompson'\n",
    "LANGUAGE = 'ja'"
   ]
  },
  {
   "cell_type": "code",
   "execution_count": 8,
   "id": "865c267e",
   "metadata": {},
   "outputs": [],
   "source": [
    "def add_word(r):    \n",
    "    def format_line(title, value):\n",
    "        value = value.strip()\n",
    "        if value != '':\n",
    "            value = f'\\n<h5>{title}</h5>\\n<dd>{value}</dd>\\n'\n",
    "        return value\n",
    "    \n",
    "    kanji = r['kanji']\n",
    "    keyword = r['keyword'].strip()\n",
    "    constituents = r['constituent'].strip()\n",
    "    koohi1 = format_line('Koohi Story 1', r['koohiiStory1'])\n",
    "    koohi2 = format_line('Koohi Story 2', r['koohiiStory2']) \n",
    "    heisig = format_line('Heisig Story', r['heisigStory']) \n",
    "    comment = format_line('Heisig Comment', r['heisigComment']) \n",
    "    \n",
    "    # Comment out the next two lines if you want to add heisig's stories & comments to the dictionary\n",
    "    heisig = ''\n",
    "    comment = ''\n",
    "      \n",
    "    return \\\n",
    "    f\"\"\"<idx:entry name=\"default\" scriptable=\"yes\" spell=\"yes\">\n",
    "      <h5><dt><idx:orth>{kanji}</idx:orth></dt></h5>\n",
    "      <dd>{keyword} [{constituents}]</dd>{koohi1}{koohi2}{heisig}{comment}\n",
    "    </idx:entry>\n",
    "    <hr/>\"\"\"\n",
    "\n",
    "def add_html_wrapper(entry_list):\n",
    "    entry_str = '\\n'.join(entry_list)\n",
    "    \n",
    "    return \\\n",
    "    f\"\"\"<html xmlns:math=\"http://exslt.org/math\" xmlns:svg=\"http://www.w3.org/2000/svg\"\n",
    "          xmlns:tl=\"https://kindlegen.s3.amazonaws.com/AmazonKindlePublishingGuidelines.pdf\"\n",
    "          xmlns:saxon=\"http://saxon.sf.net/\" xmlns:xs=\"http://www.w3.org/2001/XMLSchema\"\n",
    "          xmlns:xsi=\"http://www.w3.org/2001/XMLSchema-instance\"\n",
    "          xmlns:cx=\"https://kindlegen.s3.amazonaws.com/AmazonKindlePublishingGuidelines.pdf\"\n",
    "          xmlns:dc=\"http://purl.org/dc/elements/1.1/\"\n",
    "          xmlns:mbp=\"https://kindlegen.s3.amazonaws.com/AmazonKindlePublishingGuidelines.pdf\"\n",
    "          xmlns:mmc=\"https://kindlegen.s3.amazonaws.com/AmazonKindlePublishingGuidelines.pdf\"\n",
    "          xmlns:idx=\"https://kindlegen.s3.amazonaws.com/AmazonKindlePublishingGuidelines.pdf\">\n",
    "      <head>\n",
    "        <meta http-equiv=\"Content-Type\" content=\"text/html; charset=utf-8\">\n",
    "        <style>\n",
    "          h5 {{\n",
    "              font-size: 1em;\n",
    "              margin: 0;\n",
    "          }}\n",
    "          dt {{\n",
    "              font-weight: bold;\n",
    "          }}\n",
    "          dd {{\n",
    "              margin: 0;\n",
    "              padding: 0 0 0.5em 0;\n",
    "              display: block\n",
    "          }}\n",
    "        </style>\n",
    "      </head>\n",
    "      <body>\n",
    "        <mbp:frameset>\n",
    "          {entry_str}\n",
    "        </mbp:frameset>\n",
    "      </body>\n",
    "    </html>\n",
    "    \"\"\""
   ]
  },
  {
   "cell_type": "code",
   "execution_count": 9,
   "id": "8dd79429",
   "metadata": {},
   "outputs": [],
   "source": [
    "entry_list = []\n",
    "for i, r in rtk.iterrows():\n",
    "    entry_list += [add_word(r)]"
   ]
  },
  {
   "cell_type": "code",
   "execution_count": 10,
   "id": "65358824",
   "metadata": {},
   "outputs": [],
   "source": [
    "content = add_html_wrapper(entry_list)\n",
    "f = open('content.html', 'w', encoding='UTF-8')\n",
    "f.write(content)\n",
    "f.close()"
   ]
  },
  {
   "cell_type": "markdown",
   "id": "8d4481c2",
   "metadata": {},
   "source": [
    "# 3. Cover Page"
   ]
  },
  {
   "cell_type": "code",
   "execution_count": 11,
   "id": "d57d44e0",
   "metadata": {},
   "outputs": [],
   "source": [
    "def get_cover(dict_name, dict_auth):\n",
    "    return \\\n",
    "    f\"\"\"<html>\n",
    "      <head>\n",
    "        <meta content=\"text/html\" http-equiv=\"content-type\">\n",
    "      </head>\n",
    "      <body>\n",
    "        <h1>{dict_name}</h1>\n",
    "        <h3>{dict_auth}</h3>\n",
    "      </body>\n",
    "    </html>\n",
    "    \"\"\"\n",
    "\n",
    "cover = get_cover(TITLE, AUTHOR)\n",
    "\n",
    "f = open('cover.html', 'w', encoding='UTF-8')\n",
    "f.write(cover)\n",
    "f.close()"
   ]
  },
  {
   "cell_type": "markdown",
   "id": "232c5669",
   "metadata": {},
   "source": [
    "# 4. Copyright Page"
   ]
  },
  {
   "cell_type": "code",
   "execution_count": 12,
   "id": "68398958",
   "metadata": {},
   "outputs": [],
   "source": [
    "license_content = \"\"\"\n",
    "Licensed under CC BY-NC-SA 3.0 (Attribution-NonCommercial-ShareAlike 3.0 Unported).\n",
    "All kanji mnemonics provided by the Kanji Koohi database created by Fabrice Denis.\n",
    "\"\"\"\n",
    "\n",
    "copyright = \\\n",
    "f\"\"\"<html>\n",
    "  <head>\n",
    "    <meta content=\"text/html\" http-equiv=\"copyright-type\">\n",
    "  </head>\n",
    "  </h1>COPYRIGHT</h1>\n",
    "  <body>\n",
    "    {license_content}\n",
    "  </body>\n",
    "</html>\n",
    "\"\"\"\n",
    "\n",
    "f = open('copyright.html', 'w', encoding='UTF-8')\n",
    "f.write(copyright)\n",
    "f.close()"
   ]
  },
  {
   "cell_type": "markdown",
   "id": "7ee1c9da",
   "metadata": {},
   "source": [
    "# 5. Usage Page\n",
    "Not Required"
   ]
  },
  {
   "cell_type": "code",
   "execution_count": 13,
   "id": "dc95648f",
   "metadata": {},
   "outputs": [],
   "source": [
    "# f = open('usage.html', 'w', encoding='UTF-8')\n",
    "# f.write(usage)\n",
    "# f.close()"
   ]
  },
  {
   "cell_type": "markdown",
   "id": "2f01abfa",
   "metadata": {},
   "source": [
    "# 6. Create an .opf XML file"
   ]
  },
  {
   "cell_type": "code",
   "execution_count": 14,
   "id": "ebcf50ef",
   "metadata": {},
   "outputs": [],
   "source": [
    "def get_opf(title, author, language='en-us', lookup_idx='default', image='', usage=False):\n",
    "    if image != '':\n",
    "        image=f'\\n<item href=\"{image}\" id=\"my-cover-image\" media-type=\"image/jpg\" />\\n'\n",
    "    \n",
    "    usage_str = ''\n",
    "    usage_ref = ''\n",
    "    if usage:\n",
    "        usage_str = \\\n",
    "        \"\"\"\\n<item id=\"usage\"\n",
    "              href=\"usage.html\"\n",
    "              media-type=\"application/xhtml+xml\" />\\n\"\"\"\n",
    "        usage_ref = '\\n<itemref idref=\"usage\" />\\n'\n",
    "    \n",
    "    return \\\n",
    "    f\"\"\"<?xml version=\"1.0\"?>\n",
    "    <package version=\"2.0\" xmlns=\"http://www.idpf.org/2007/opf\" unique-identifier=\"BookId\">\n",
    "      <metadata>\n",
    "        <dc:title>{title}</dc:title>\n",
    "        <dc:creator opf:role=\"aut\">{author}</dc:creator>\n",
    "        <dc:language>{language}</dc:language>\n",
    "        <meta name=\"cover\" content=\"my-cover-image\" />\n",
    "        <x-metadata>\n",
    "          <DictionaryInLanguage>{language}</DictionaryInLanguage>\n",
    "          <DictionaryOutLanguage>{language}</DictionaryOutLanguage>\n",
    "          <DefaultLookupIndex>{lookup_idx}</DefaultLookupIndex>\n",
    "        </x-metadata>\n",
    "      </metadata>\n",
    "      <manifest>{image}        \n",
    "        <item id=\"cover\"\n",
    "              href=\"cover.html\"\n",
    "              media-type=\"application/xhtml+xml\" />{usage_str}\n",
    "        <item id=\"copyright\"\n",
    "              href=\"copyright.html\"\n",
    "              media-type=\"application/xhtml+xml\" />\n",
    "        <item id=\"content\"\n",
    "              href=\"content.html\"\n",
    "              media-type=\"application/xhtml+xml\" />\n",
    "      </manifest>\n",
    "      <spine>\n",
    "        <itemref idref=\"cover\" />{usage_ref}        \n",
    "        <itemref idref=\"copyright\"/>\n",
    "        <itemref idref=\"content\"/>\n",
    "      </spine>\n",
    "      <guide>\n",
    "        <reference type=\"index\" title=\"IndexName\" href=\"content.html\"/>\n",
    "      </guide>\n",
    "    </package>\n",
    "    \"\"\""
   ]
  },
  {
   "cell_type": "code",
   "execution_count": 15,
   "id": "e9db8aff",
   "metadata": {},
   "outputs": [],
   "source": [
    "opf = get_opf(TITLE, AUTHOR, language=LANGUAGE)\n",
    "f = open('kanji-koohi-rtk_dict.opf', 'w', encoding='UTF-8')\n",
    "f.write(opf)\n",
    "f.close()"
   ]
  },
  {
   "cell_type": "code",
   "execution_count": null,
   "id": "8a9bd019",
   "metadata": {},
   "outputs": [],
   "source": []
  }
 ],
 "metadata": {
  "kernelspec": {
   "display_name": "Python 3 (ipykernel)",
   "language": "python",
   "name": "python3"
  },
  "language_info": {
   "codemirror_mode": {
    "name": "ipython",
    "version": 3
   },
   "file_extension": ".py",
   "mimetype": "text/x-python",
   "name": "python",
   "nbconvert_exporter": "python",
   "pygments_lexer": "ipython3",
   "version": "3.10.8"
  }
 },
 "nbformat": 4,
 "nbformat_minor": 5
}
